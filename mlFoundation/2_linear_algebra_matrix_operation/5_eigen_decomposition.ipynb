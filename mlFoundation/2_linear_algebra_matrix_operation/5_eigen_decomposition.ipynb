{
 "cells": [
  {
   "cell_type": "code",
   "execution_count": 1,
   "metadata": {},
   "outputs": [],
   "source": [
    "import torch"
   ]
  },
  {
   "cell_type": "code",
   "execution_count": 3,
   "metadata": {},
   "outputs": [
    {
     "data": {
      "text/plain": [
       "tensor([[25.,  2., -5.],\n",
       "        [ 3., -2.,  1.],\n",
       "        [ 5.,  7.,  4.]])"
      ]
     },
     "execution_count": 3,
     "metadata": {},
     "output_type": "execute_result"
    }
   ],
   "source": [
    "A = torch.tensor([[25, 2, -5], [3, -2, 1], [5, 7, 4.]])\n",
    "A"
   ]
  },
  {
   "cell_type": "code",
   "execution_count": 5,
   "metadata": {},
   "outputs": [
    {
     "data": {
      "text/plain": [
       "tensor([[ 0.9511+0.j, -0.2386+0.j,  0.1626+0.j],\n",
       "        [ 0.1218+0.j, -0.1924+0.j, -0.7705+0.j],\n",
       "        [ 0.2837+0.j, -0.9519+0.j,  0.6163+0.j]])"
      ]
     },
     "execution_count": 5,
     "metadata": {},
     "output_type": "execute_result"
    }
   ],
   "source": [
    "lambdas, V = torch.linalg.eig(A)\n",
    "V"
   ]
  },
  {
   "cell_type": "code",
   "execution_count": 6,
   "metadata": {},
   "outputs": [],
   "source": [
    "V_inv = torch.linalg.inv(V)"
   ]
  },
  {
   "cell_type": "code",
   "execution_count": 9,
   "metadata": {},
   "outputs": [
    {
     "data": {
      "text/plain": [
       "tensor([[25.0000+0.j,  2.0000+0.j, -5.0000+0.j],\n",
       "        [ 3.0000+0.j, -2.0000+0.j,  1.0000+0.j],\n",
       "        [ 5.0000+0.j,  7.0000+0.j,  4.0000+0.j]])"
      ]
     },
     "execution_count": 9,
     "metadata": {},
     "output_type": "execute_result"
    }
   ],
   "source": [
    "A_calc = torch.matmul(V, torch.matmul(torch.diag(lambdas), V_inv))\n",
    "A_calc"
   ]
  },
  {
   "cell_type": "code",
   "execution_count": null,
   "metadata": {},
   "outputs": [
    {
     "data": {
      "text/plain": [
       "tensor([[25.,  2., -5.],\n",
       "        [ 2., -2.,  1.],\n",
       "        [-5.,  1.,  4.]])"
      ]
     },
     "execution_count": 10,
     "metadata": {},
     "output_type": "execute_result"
    }
   ],
   "source": [
    "# An example of eigenvector matrix being symmetric\n",
    "A = torch.tensor([[25, 2, -5], [2, -2, 1], [-5, 1, 4.]])\n",
    "A"
   ]
  },
  {
   "cell_type": "code",
   "execution_count": 13,
   "metadata": {},
   "outputs": [
    {
     "data": {
      "text/plain": [
       "tensor([[ 0.9744+0.j,  0.1943+0.j, -0.1132+0.j],\n",
       "        [ 0.0614+0.j,  0.2548+0.j,  0.9651+0.j],\n",
       "        [-0.2163+0.j,  0.9473+0.j, -0.2363+0.j]])"
      ]
     },
     "execution_count": 13,
     "metadata": {},
     "output_type": "execute_result"
    }
   ],
   "source": [
    "lambdas, V = torch.linalg.eig(A)\n",
    "V"
   ]
  },
  {
   "cell_type": "code",
   "execution_count": 14,
   "metadata": {},
   "outputs": [
    {
     "data": {
      "text/plain": [
       "tensor([[ 0.9744+0.j,  0.0614+0.j, -0.2163+0.j],\n",
       "        [ 0.1943+0.j,  0.2548+0.j,  0.9473+0.j],\n",
       "        [-0.1132+0.j,  0.9651+0.j, -0.2363+0.j]])"
      ]
     },
     "execution_count": 14,
     "metadata": {},
     "output_type": "execute_result"
    }
   ],
   "source": [
    "V_inv = torch.linalg.inv(V)\n",
    "V_inv"
   ]
  },
  {
   "cell_type": "code",
   "execution_count": 16,
   "metadata": {},
   "outputs": [
    {
     "data": {
      "text/plain": [
       "tensor([[25.0000+0.j,  2.0000+0.j, -5.0000+0.j],\n",
       "        [ 2.0000+0.j, -2.0000+0.j,  1.0000+0.j],\n",
       "        [-5.0000+0.j,  1.0000+0.j,  4.0000+0.j]])"
      ]
     },
     "execution_count": 16,
     "metadata": {},
     "output_type": "execute_result"
    }
   ],
   "source": [
    "A_calc = torch.matmul(V, torch.matmul(torch.diag(lambdas), V_inv))\n",
    "A_calc"
   ]
  },
  {
   "cell_type": "code",
   "execution_count": null,
   "metadata": {},
   "outputs": [],
   "source": []
  }
 ],
 "metadata": {
  "kernelspec": {
   "display_name": "base",
   "language": "python",
   "name": "python3"
  },
  "language_info": {
   "codemirror_mode": {
    "name": "ipython",
    "version": 3
   },
   "file_extension": ".py",
   "mimetype": "text/x-python",
   "name": "python",
   "nbconvert_exporter": "python",
   "pygments_lexer": "ipython3",
   "version": "3.12.7"
  }
 },
 "nbformat": 4,
 "nbformat_minor": 2
}
